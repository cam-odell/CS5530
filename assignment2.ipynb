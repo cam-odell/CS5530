{
 "cells": [
  {
   "cell_type": "code",
   "execution_count": 110,
   "id": "418bb5b8",
   "metadata": {},
   "outputs": [],
   "source": [
    "import pandas as pd\n",
    "import numpy as np\n",
    "from datetime import datetime"
   ]
  },
  {
   "cell_type": "code",
   "execution_count": 111,
   "id": "19ece513",
   "metadata": {},
   "outputs": [
    {
     "name": "stdout",
     "output_type": "stream",
     "text": [
      "(5847, 14)\n",
      "Unnamed: 0              0\n",
      "Name                    0\n",
      "Location                0\n",
      "Year                    0\n",
      "Kilometers_Driven       0\n",
      "Fuel_Type               0\n",
      "Transmission            0\n",
      "Owner_Type              0\n",
      "Mileage                 2\n",
      "Engine                 36\n",
      "Power                  36\n",
      "Seats                  38\n",
      "New_Price            5032\n",
      "Price                   0\n",
      "dtype: int64\n"
     ]
    }
   ],
   "source": [
    "# read raw data and import into df with pandas\n",
    "df = pd.read_csv('C:/Users/Cameron/Desktop/CS5530/Assignment2 - CS5530/train.csv')\n",
    "print(df.shape)\n",
    "\n",
    "#check df for null/missing values and return summary\n",
    "missing_values = df.isnull().sum()\n",
    "print(missing_values)"
   ]
  },
  {
   "cell_type": "code",
   "execution_count": 112,
   "id": "44c1af48",
   "metadata": {},
   "outputs": [],
   "source": [
    "# drop where missing values for mileage, engine, power\n",
    "df = df.dropna(subset=['Mileage', 'Engine', 'Power'])\n",
    "\n",
    "# replace missing values for seats with the mode\n",
    "seats_mode = df['Seats'].mode()[0]\n",
    "df['Seats'].fillna(seats_mode, inplace=True)\n",
    "\n",
    "# store rows that have both price and new price values\n",
    "rows_with_both_prices = df.dropna(subset=['Price', 'New_Price'])\n",
    "\n",
    "# clone rows and modify with values that should be found in a new car (i.e, km driven = 0, price = same as new price, etc)\n",
    "new_price_rows = rows_with_both_prices.copy()\n",
    "new_price_rows['Kilometers_Driven'] = 0 \n",
    "new_price_rows['Price'] = new_price_rows['New_Price']  \n",
    "new_price_rows['Owner_Type'] = 'First' \n",
    "\n",
    "# remove original set of rows that were cloned\n",
    "df.drop(rows_with_both_prices.index, inplace=True)\n",
    "\n",
    "# recombine df and drop new_price column\n",
    "final_df = pd.concat([df, new_price_rows]).sort_index()\n",
    "final_df.reset_index(drop=True, inplace=True)\n",
    "final_df = df.drop('New_Price', axis=1)\n",
    "\n",
    "# new df shape\n",
    "final_shape = final_df.shape\n",
    "first_few_rows = final_df.head()"
   ]
  },
  {
   "cell_type": "code",
   "execution_count": 113,
   "id": "5dc35055",
   "metadata": {},
   "outputs": [],
   "source": [
    "# standardizing the units and removing\n",
    "final_df['Mileage'] = final_df['Mileage'].str.extract('(\\d+\\.\\d+|\\d+)').astype(float)\n",
    "final_df['Engine'] = final_df['Engine'].str.extract('(\\d+)').astype(float)\n",
    "final_df['Power'] = final_df['Power'].str.replace('null bhp', '0 bhp') \n",
    "final_df['Power'] = final_df['Power'].str.extract('(\\d+\\.\\d+|\\d+)').astype(float)"
   ]
  },
  {
   "cell_type": "code",
   "execution_count": 115,
   "id": "88be2357",
   "metadata": {},
   "outputs": [],
   "source": [
    "# One-hot encode\n",
    "final_df = pd.get_dummies(final_df, columns=['Fuel_Type', 'Transmission'], drop_first=True)\n",
    "\n",
    "# car age\n",
    "current_year = datetime.now().year\n",
    "final_df['Car_Age'] = current_year - final_df['Year']\n"
   ]
  },
  {
   "cell_type": "code",
   "execution_count": 105,
   "id": "cac3414e",
   "metadata": {},
   "outputs": [],
   "source": [
    "# save df to CSV\n",
    "final_df.to_csv('C:/Users/Cameron/Desktop/CS5530/Assignment2 - CS5530/modified_train.csv', index=False)"
   ]
  },
  {
   "cell_type": "code",
   "execution_count": 118,
   "id": "f5f73a1f",
   "metadata": {},
   "outputs": [],
   "source": [
    "# select operation\n",
    "selected_df = final_df[['Price', 'Car_Age']]\n",
    "\n",
    "# filter operation\n",
    "filtered_df = final_df[final_df['Car_Age'] == 1]\n",
    "\n",
    "# rename operation\n",
    "renamed_df = final_df.rename(columns={'Car_Age': 'Vehicle Age'})\n",
    "\n",
    "# mutate operation\n",
    "final_df['Price_per_Year'] = final_df['Price'] / final_df['Car_Age']\n",
    "\n",
    "# arrange operation\n",
    "sorted_df = final_df.sort_values('Price', ascending=False)\n",
    "\n",
    "# summarize operation\n",
    "average_price_by_location = final_df.groupby('Location')['Price'].mean().reset_index()"
   ]
  },
  {
   "cell_type": "code",
   "execution_count": null,
   "id": "c45cf618",
   "metadata": {},
   "outputs": [],
   "source": []
  }
 ],
 "metadata": {
  "kernelspec": {
   "display_name": "Python 3 (ipykernel)",
   "language": "python",
   "name": "python3"
  },
  "language_info": {
   "codemirror_mode": {
    "name": "ipython",
    "version": 3
   },
   "file_extension": ".py",
   "mimetype": "text/x-python",
   "name": "python",
   "nbconvert_exporter": "python",
   "pygments_lexer": "ipython3",
   "version": "3.11.5"
  }
 },
 "nbformat": 4,
 "nbformat_minor": 5
}
